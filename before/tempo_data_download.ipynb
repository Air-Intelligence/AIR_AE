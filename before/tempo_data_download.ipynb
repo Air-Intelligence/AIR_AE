{
 "cells": [
  {
   "cell_type": "markdown",
   "metadata": {},
   "source": [
    "# TEMPO 데이터 다운로드\n",
    "\n",
    "NASA Earthdata에서 TEMPO (Tropospheric Emissions: Monitoring of Pollution) 데이터를 다운로드하는 스크립트입니다.\n",
    "\n",
    "## 다운로드 대상 데이터\n",
    "- **NO₂ (이산화질소)**: V03 + V04 (Standard), V02 NRT (Near Real-Time)\n",
    "- **HCHO (포름알데히드)**: V04 (Standard), V02 NRT\n",
    "- **O₃ (오존)**: V04 (Standard)\n",
    "- **Cloud (구름)**: V04 (Standard), V02 NRT"
   ]
  },
  {
   "cell_type": "markdown",
   "metadata": {},
   "source": [
    "## 1. 설치 및 Import"
   ]
  },
  {
   "cell_type": "code",
   "execution_count": null,
   "metadata": {},
   "outputs": [],
   "source": [
    "# earthaccess 라이브러리 설치 (처음 실행 시)\n",
    "# !pip install earthaccess pandas"
   ]
  },
  {
   "cell_type": "code",
   "execution_count": 1,
   "metadata": {},
   "outputs": [
    {
     "name": "stderr",
     "output_type": "stream",
     "text": [
      "c:\\Users\\YJKIM_PC\\Documents\\나사 해커톤 2025\\.venv\\lib\\site-packages\\tqdm\\auto.py:21: TqdmWarning: IProgress not found. Please update jupyter and ipywidgets. See https://ipywidgets.readthedocs.io/en/stable/user_install.html\n",
      "  from .autonotebook import tqdm as notebook_tqdm\n"
     ]
    }
   ],
   "source": [
    "import earthaccess\n",
    "import pandas as pd\n",
    "from datetime import datetime\n",
    "from pathlib import Path"
   ]
  },
  {
   "cell_type": "markdown",
   "metadata": {},
   "source": [
    "## 2. NASA Earthdata 인증\n",
    "\n",
    "처음 실행 시 NASA Earthdata 계정 정보를 입력해야 합니다.\n",
    "- 계정이 없다면: https://urs.earthdata.nasa.gov/ 에서 가입"
   ]
  },
  {
   "cell_type": "code",
   "execution_count": 2,
   "metadata": {},
   "outputs": [
    {
     "name": "stdout",
     "output_type": "stream",
     "text": [
      "✅ 인증 성공!\n"
     ]
    }
   ],
   "source": [
    "# NASA Earthdata 로그인\n",
    "auth = earthaccess.login()\n",
    "\n",
    "if auth:\n",
    "    print(\"✅ 인증 성공!\")\n",
    "else:\n",
    "    print(\"❌ 인증 실패. 다시 시도해주세요.\")"
   ]
  },
  {
   "cell_type": "markdown",
   "metadata": {},
   "source": [
    "## 3. 다운로드 설정"
   ]
  },
  {
   "cell_type": "code",
   "execution_count": 3,
   "metadata": {},
   "outputs": [],
   "source": [
    "# 다운로드할 데이터셋 정의 (CSV 파일 기반)\n",
    "datasets = {\n",
    "    'NO2': [\n",
    "        {'short_name': 'TEMPO_NO2_L2', 'version': 'V03'},\n",
    "        {'short_name': 'TEMPO_NO2_L3', 'version': 'V03'},\n",
    "        {'short_name': 'TEMPO_NO2_L2', 'version': 'V04'},\n",
    "        {'short_name': 'TEMPO_NO2_L3', 'version': 'V04'},\n",
    "        {'short_name': 'TEMPO_NO2_L2_NRT', 'version': 'V02'},\n",
    "        {'short_name': 'TEMPO_NO2_L3_NRT', 'version': 'V02'},\n",
    "    ],\n",
    "    'HCHO': [\n",
    "        {'short_name': 'TEMPO_HCHO_L2', 'version': 'V03'},\n",
    "        {'short_name': 'TEMPO_HCHO_L3', 'version': 'V03'},\n",
    "        {'short_name': 'TEMPO_HCHO_L2', 'version': 'V04'},\n",
    "        {'short_name': 'TEMPO_HCHO_L3', 'version': 'V04'},\n",
    "        {'short_name': 'TEMPO_HCHO_L2_NRT', 'version': 'V02'},\n",
    "        {'short_name': 'TEMPO_HCHO_L3_NRT', 'version': 'V02'},\n",
    "    ],\n",
    "    'O3': [\n",
    "        {'short_name': 'TEMPO_O3TOT_L2', 'version': 'V03'},\n",
    "        {'short_name': 'TEMPO_O3TOT_L3', 'version': 'V03'},\n",
    "        {'short_name': 'TEMPO_O3TOT_L2', 'version': 'V04'},\n",
    "        {'short_name': 'TEMPO_O3TOT_L3', 'version': 'V04'},\n",
    "        # 선택사항: Profile 데이터\n",
    "        # {'short_name': 'TEMPO_O3PROF_L2', 'version': 'V04'},\n",
    "        # {'short_name': 'TEMPO_O3PROF_L3', 'version': 'V04'},\n",
    "    ],\n",
    "    'Cloud': [\n",
    "        {'short_name': 'TEMPO_CLDO4_L2', 'version': 'V03'},\n",
    "        {'short_name': 'TEMPO_CLDO4_L3', 'version': 'V03'},\n",
    "        {'short_name': 'TEMPO_CLDO4_L2', 'version': 'V04'},\n",
    "        {'short_name': 'TEMPO_CLDO4_L3', 'version': 'V04'},\n",
    "        {'short_name': 'TEMPO_CLDO4_L2_NRT', 'version': 'V02'},\n",
    "        {'short_name': 'TEMPO_CLDO4_L3_NRT', 'version': 'V02'},\n",
    "    ]\n",
    "}"
   ]
  },
  {
   "cell_type": "code",
   "execution_count": 4,
   "metadata": {},
   "outputs": [
    {
     "name": "stdout",
     "output_type": "stream",
     "text": [
      "⚙️ 다운로드 설정:\n",
      "  - 기간: 2023-08-01 ~ 2024-12-31\n",
      "  - 지역: (-124.4, 32.5, -114.1, 42.0)\n",
      "  - 저장 경로: ./tempo_data\n",
      "  - 파일 제한: 10 (per dataset)\n"
     ]
    }
   ],
   "source": [
    "# 다운로드 설정\n",
    "config = {\n",
    "    # 시간 범위 (TEMPO 전체 데이터: 2023년 8월 ~ 2024년 12월, 약 17개월)\n",
    "    'temporal': ('2023-08-01', '2024-12-31'),\n",
    "    \n",
    "    # 공간 범위 (bounding box: min_lon, min_lat, max_lon, max_lat)\n",
    "    # 예: 캘리포니아 주 (California)\n",
    "    'bounding_box': (-124.4, 32.5, -114.1, 42.0),\n",
    "    \n",
    "    # 또는 다른 주 선택:\n",
    "    # Texas: (-106.6, 25.8, -93.5, 36.5)\n",
    "    # New York: (-79.8, 40.5, -71.9, 45.0)\n",
    "    # Florida: (-87.6, 24.5, -80.0, 31.0)\n",
    "    \n",
    "    # 다운로드 폴더\n",
    "    'download_dir': './tempo_data',\n",
    "    \n",
    "    # 파일 개수 제한 (테스트용, None = 전체 다운로드)\n",
    "    'max_files_per_dataset': 10,  # 테스트: 각 데이터셋당 10개 파일만\n",
    "    # 'max_files_per_dataset': None,  # 실제 사용: 전체 다운로드\n",
    "}\n",
    "\n",
    "# 다운로드 폴더 생성\n",
    "Path(config['download_dir']).mkdir(parents=True, exist_ok=True)\n",
    "\n",
    "print(f\"⚙️ 다운로드 설정:\")\n",
    "print(f\"  - 기간: {config['temporal'][0]} ~ {config['temporal'][1]}\")\n",
    "print(f\"  - 지역: {config['bounding_box']}\")\n",
    "print(f\"  - 저장 경로: {config['download_dir']}\")\n",
    "print(f\"  - 파일 제한: {config['max_files_per_dataset']} (per dataset)\")"
   ]
  },
  {
   "cell_type": "markdown",
   "metadata": {},
   "source": [
    "## 4. 데이터 검색 및 다운로드"
   ]
  },
  {
   "cell_type": "code",
   "execution_count": 6,
   "metadata": {},
   "outputs": [],
   "source": [
    "def search_and_download_tempo_data(dataset_type, dataset_info, config):\n",
    "    \"\"\"\n",
    "    TEMPO 데이터를 검색하고 다운로드합니다.\n",
    "    \n",
    "    Args:\n",
    "        dataset_type: 데이터 타입 (NO2, HCHO, O3, Cloud)\n",
    "        dataset_info: {'short_name': str, 'version': str}\n",
    "        config: 다운로드 설정 딕셔너리\n",
    "    \"\"\"\n",
    "    short_name = dataset_info['short_name']\n",
    "    version = dataset_info['version']\n",
    "    \n",
    "    print(f\"\\n{'='*60}\")\n",
    "    print(f\"🔍 검색 중: {dataset_type} - {short_name} ({version})\")\n",
    "    print(f\"{'='*60}\")\n",
    "    \n",
    "    try:\n",
    "        # 데이터 검색\n",
    "        results = earthaccess.search_data(\n",
    "            short_name=short_name,\n",
    "            version=version,\n",
    "            temporal=config['temporal'],\n",
    "            bounding_box=config['bounding_box'],\n",
    "        )\n",
    "        \n",
    "        if not results:\n",
    "            print(f\"⚠️  검색 결과 없음\")\n",
    "            return []\n",
    "        \n",
    "        # 파일 개수 제한\n",
    "        if config['max_files_per_dataset']:\n",
    "            results = results[:config['max_files_per_dataset']]\n",
    "        \n",
    "        print(f\"📊 검색 결과: {len(results)}개 파일\")\n",
    "        \n",
    "        # 다운로드\n",
    "        print(f\"⬇️  다운로드 시작...\")\n",
    "        download_path = Path(config['download_dir']) / dataset_type / short_name / version\n",
    "        download_path.mkdir(parents=True, exist_ok=True)\n",
    "        \n",
    "        downloaded_files = earthaccess.download(\n",
    "            results,\n",
    "            str(download_path)\n",
    "        )\n",
    "        \n",
    "        print(f\"✅ 다운로드 완료: {len(downloaded_files)}개 파일\")\n",
    "        print(f\"   저장 경로: {download_path}\")\n",
    "        \n",
    "        return downloaded_files\n",
    "        \n",
    "    except Exception as e:\n",
    "        print(f\"❌ 오류 발생: {str(e)}\")\n",
    "        return []"
   ]
  },
  {
   "cell_type": "code",
   "execution_count": null,
   "metadata": {},
   "outputs": [
    {
     "name": "stdout",
     "output_type": "stream",
     "text": [
      "\n",
      "######################################################################\n",
      "#  NO2 데이터 다운로드 시작\n",
      "######################################################################\n",
      "\n",
      "============================================================\n",
      "🔍 검색 중: NO2 - TEMPO_NO2_L2 (V03)\n",
      "============================================================\n",
      "📊 검색 결과: 10개 파일\n",
      "⬇️  다운로드 시작...\n"
     ]
    },
    {
     "name": "stderr",
     "output_type": "stream",
     "text": [
      "QUEUEING TASKS | : 100%|██████████| 10/10 [00:00<00:00, 666.64it/s]\n",
      "PROCESSING TASKS | : 100%|██████████| 10/10 [01:32<00:00,  9.29s/it]\n",
      "COLLECTING RESULTS | : 100%|██████████| 10/10 [00:00<?, ?it/s]\n"
     ]
    },
    {
     "name": "stdout",
     "output_type": "stream",
     "text": [
      "✅ 다운로드 완료: 10개 파일\n",
      "   저장 경로: tempo_data\\NO2\\TEMPO_NO2_L2\\V03\n",
      "\n",
      "============================================================\n",
      "🔍 검색 중: NO2 - TEMPO_NO2_L3 (V03)\n",
      "============================================================\n",
      "📊 검색 결과: 10개 파일\n",
      "⬇️  다운로드 시작...\n"
     ]
    },
    {
     "name": "stderr",
     "output_type": "stream",
     "text": [
      "QUEUEING TASKS | : 100%|██████████| 10/10 [00:00<00:00, 714.24it/s]\n",
      "PROCESSING TASKS | : 100%|██████████| 10/10 [13:09<00:00, 78.98s/it]\n",
      "COLLECTING RESULTS | : 100%|██████████| 10/10 [00:00<?, ?it/s]\n"
     ]
    },
    {
     "name": "stdout",
     "output_type": "stream",
     "text": [
      "✅ 다운로드 완료: 10개 파일\n",
      "   저장 경로: tempo_data\\NO2\\TEMPO_NO2_L3\\V03\n",
      "\n",
      "============================================================\n",
      "🔍 검색 중: NO2 - TEMPO_NO2_L2 (V04)\n",
      "============================================================\n",
      "⚠️  검색 결과 없음\n",
      "\n",
      "============================================================\n",
      "🔍 검색 중: NO2 - TEMPO_NO2_L3 (V04)\n",
      "============================================================\n",
      "⚠️  검색 결과 없음\n",
      "\n",
      "============================================================\n",
      "🔍 검색 중: NO2 - TEMPO_NO2_L2_NRT (V02)\n",
      "============================================================\n",
      "⚠️  검색 결과 없음\n",
      "\n",
      "============================================================\n",
      "🔍 검색 중: NO2 - TEMPO_NO2_L3_NRT (V02)\n",
      "============================================================\n",
      "⚠️  검색 결과 없음\n",
      "\n",
      "######################################################################\n",
      "#  HCHO 데이터 다운로드 시작\n",
      "######################################################################\n",
      "\n",
      "============================================================\n",
      "🔍 검색 중: HCHO - TEMPO_HCHO_L2 (V03)\n",
      "============================================================\n",
      "📊 검색 결과: 10개 파일\n",
      "⬇️  다운로드 시작...\n"
     ]
    },
    {
     "name": "stderr",
     "output_type": "stream",
     "text": [
      "QUEUEING TASKS | : 100%|██████████| 10/10 [00:00<00:00, 455.00it/s]\n",
      "PROCESSING TASKS | : 100%|██████████| 10/10 [01:26<00:00,  8.61s/it]\n",
      "COLLECTING RESULTS | : 100%|██████████| 10/10 [00:00<00:00, 9998.34it/s]\n"
     ]
    },
    {
     "name": "stdout",
     "output_type": "stream",
     "text": [
      "✅ 다운로드 완료: 10개 파일\n",
      "   저장 경로: tempo_data\\HCHO\\TEMPO_HCHO_L2\\V03\n",
      "\n",
      "============================================================\n",
      "🔍 검색 중: HCHO - TEMPO_HCHO_L3 (V03)\n",
      "============================================================\n",
      "📊 검색 결과: 10개 파일\n",
      "⬇️  다운로드 시작...\n"
     ]
    },
    {
     "name": "stderr",
     "output_type": "stream",
     "text": [
      "QUEUEING TASKS | : 100%|██████████| 10/10 [00:00<00:00, 584.20it/s]\n",
      "PROCESSING TASKS | : 100%|██████████| 10/10 [07:21<00:00, 44.20s/it]\n",
      "COLLECTING RESULTS | : 100%|██████████| 10/10 [00:00<?, ?it/s]\n"
     ]
    },
    {
     "name": "stdout",
     "output_type": "stream",
     "text": [
      "✅ 다운로드 완료: 10개 파일\n",
      "   저장 경로: tempo_data\\HCHO\\TEMPO_HCHO_L3\\V03\n",
      "\n",
      "============================================================\n",
      "🔍 검색 중: HCHO - TEMPO_HCHO_L2 (V04)\n",
      "============================================================\n",
      "⚠️  검색 결과 없음\n",
      "\n",
      "============================================================\n",
      "🔍 검색 중: HCHO - TEMPO_HCHO_L3 (V04)\n",
      "============================================================\n",
      "⚠️  검색 결과 없음\n",
      "\n",
      "============================================================\n",
      "🔍 검색 중: HCHO - TEMPO_HCHO_L2_NRT (V02)\n",
      "============================================================\n",
      "⚠️  검색 결과 없음\n",
      "\n",
      "============================================================\n",
      "🔍 검색 중: HCHO - TEMPO_HCHO_L3_NRT (V02)\n",
      "============================================================\n",
      "⚠️  검색 결과 없음\n",
      "\n",
      "######################################################################\n",
      "#  O3 데이터 다운로드 시작\n",
      "######################################################################\n",
      "\n",
      "============================================================\n",
      "🔍 검색 중: O3 - TEMPO_O3TOT_L2 (V03)\n",
      "============================================================\n",
      "📊 검색 결과: 10개 파일\n",
      "⬇️  다운로드 시작...\n"
     ]
    },
    {
     "name": "stderr",
     "output_type": "stream",
     "text": [
      "QUEUEING TASKS | : 100%|██████████| 10/10 [00:00<00:00, 526.09it/s]\n",
      "PROCESSING TASKS | : 100%|██████████| 10/10 [01:31<00:00,  9.20s/it]\n",
      "COLLECTING RESULTS | : 100%|██████████| 10/10 [00:00<?, ?it/s]\n"
     ]
    },
    {
     "name": "stdout",
     "output_type": "stream",
     "text": [
      "✅ 다운로드 완료: 10개 파일\n",
      "   저장 경로: tempo_data\\O3\\TEMPO_O3TOT_L2\\V03\n",
      "\n",
      "============================================================\n",
      "🔍 검색 중: O3 - TEMPO_O3TOT_L3 (V03)\n",
      "============================================================\n",
      "📊 검색 결과: 10개 파일\n",
      "⬇️  다운로드 시작...\n"
     ]
    },
    {
     "name": "stderr",
     "output_type": "stream",
     "text": [
      "QUEUEING TASKS | : 100%|██████████| 10/10 [00:00<00:00, 1165.70it/s]\n",
      "PROCESSING TASKS | : 100%|██████████| 10/10 [03:52<00:00, 23.21s/it]\n",
      "COLLECTING RESULTS | : 100%|██████████| 10/10 [00:00<?, ?it/s]\n"
     ]
    },
    {
     "name": "stdout",
     "output_type": "stream",
     "text": [
      "✅ 다운로드 완료: 10개 파일\n",
      "   저장 경로: tempo_data\\O3\\TEMPO_O3TOT_L3\\V03\n",
      "\n",
      "============================================================\n",
      "🔍 검색 중: O3 - TEMPO_O3TOT_L2 (V04)\n",
      "============================================================\n",
      "⚠️  검색 결과 없음\n",
      "\n",
      "============================================================\n",
      "🔍 검색 중: O3 - TEMPO_O3TOT_L3 (V04)\n",
      "============================================================\n",
      "⚠️  검색 결과 없음\n",
      "\n",
      "######################################################################\n",
      "#  Cloud 데이터 다운로드 시작\n",
      "######################################################################\n",
      "\n",
      "============================================================\n",
      "🔍 검색 중: Cloud - TEMPO_CLDO4_L2 (V03)\n",
      "============================================================\n",
      "📊 검색 결과: 10개 파일\n",
      "⬇️  다운로드 시작...\n"
     ]
    },
    {
     "name": "stderr",
     "output_type": "stream",
     "text": [
      "QUEUEING TASKS | : 100%|██████████| 10/10 [00:00<00:00, 499.87it/s]\n",
      "PROCESSING TASKS | : 100%|██████████| 10/10 [00:31<00:00,  3.15s/it]\n",
      "COLLECTING RESULTS | : 100%|██████████| 10/10 [00:00<?, ?it/s]\n"
     ]
    },
    {
     "name": "stdout",
     "output_type": "stream",
     "text": [
      "✅ 다운로드 완료: 10개 파일\n",
      "   저장 경로: tempo_data\\Cloud\\TEMPO_CLDO4_L2\\V03\n",
      "\n",
      "============================================================\n",
      "🔍 검색 중: Cloud - TEMPO_CLDO4_L3 (V03)\n",
      "============================================================\n",
      "📊 검색 결과: 10개 파일\n",
      "⬇️  다운로드 시작...\n"
     ]
    },
    {
     "name": "stderr",
     "output_type": "stream",
     "text": [
      "QUEUEING TASKS | : 100%|██████████| 10/10 [00:00<00:00, 454.41it/s]\n",
      "PROCESSING TASKS | :  50%|█████     | 5/10 [01:55<01:03, 12.70s/it]"
     ]
    }
   ],
   "source": [
    "# 모든 데이터셋 다운로드\n",
    "download_summary = []\n",
    "\n",
    "for dataset_type, dataset_list in datasets.items():\n",
    "    print(f\"\\n{'#'*70}\")\n",
    "    print(f\"#  {dataset_type} 데이터 다운로드 시작\")\n",
    "    print(f\"{'#'*70}\")\n",
    "    \n",
    "    for dataset_info in dataset_list:\n",
    "        files = search_and_download_tempo_data(dataset_type, dataset_info, config)\n",
    "        \n",
    "        download_summary.append({\n",
    "            'Type': dataset_type,\n",
    "            'Short Name': dataset_info['short_name'],\n",
    "            'Version': dataset_info['version'],\n",
    "            'Files Downloaded': len(files)\n",
    "        })\n",
    "\n",
    "print(f\"\\n\\n{'='*70}\")\n",
    "print(\"🎉 모든 다운로드 완료!\")\n",
    "print(f\"{'='*70}\")"
   ]
  },
  {
   "cell_type": "markdown",
   "metadata": {},
   "source": [
    "## 5. 다운로드 결과 확인"
   ]
  },
  {
   "cell_type": "code",
   "execution_count": null,
   "metadata": {},
   "outputs": [],
   "source": [
    "# 다운로드 요약 테이블\n",
    "summary_df = pd.DataFrame(download_summary)\n",
    "print(\"\\n📋 다운로드 요약:\")\n",
    "print(summary_df.to_string(index=False))\n",
    "\n",
    "total_files = summary_df['Files Downloaded'].sum()\n",
    "print(f\"\\n📦 총 다운로드 파일 수: {total_files}개\")"
   ]
  },
  {
   "cell_type": "code",
   "execution_count": null,
   "metadata": {},
   "outputs": [],
   "source": [
    "# 다운로드 결과를 CSV로 저장\n",
    "summary_filename = f\"download_summary_{datetime.now().strftime('%Y%m%d_%H%M%S')}.csv\"\n",
    "summary_df.to_csv(summary_filename, index=False)\n",
    "print(f\"\\n💾 다운로드 요약 저장: {summary_filename}\")"
   ]
  },
  {
   "cell_type": "markdown",
   "metadata": {},
   "source": [
    "## 6. 다운로드된 파일 구조 확인"
   ]
  },
  {
   "cell_type": "code",
   "execution_count": null,
   "metadata": {},
   "outputs": [],
   "source": [
    "# 다운로드 폴더 구조 확인\n",
    "import os\n",
    "\n",
    "def print_directory_tree(path, prefix=\"\", max_depth=3, current_depth=0):\n",
    "    \"\"\"디렉토리 구조를 트리 형태로 출력\"\"\"\n",
    "    if current_depth >= max_depth:\n",
    "        return\n",
    "    \n",
    "    path = Path(path)\n",
    "    if not path.exists():\n",
    "        return\n",
    "    \n",
    "    items = list(path.iterdir())\n",
    "    items.sort()\n",
    "    \n",
    "    for i, item in enumerate(items):\n",
    "        is_last = i == len(items) - 1\n",
    "        current_prefix = \"└── \" if is_last else \"├── \"\n",
    "        print(f\"{prefix}{current_prefix}{item.name}\")\n",
    "        \n",
    "        if item.is_dir():\n",
    "            extension_prefix = \"    \" if is_last else \"│   \"\n",
    "            print_directory_tree(item, prefix + extension_prefix, max_depth, current_depth + 1)\n",
    "\n",
    "print(\"\\n📁 다운로드 폴더 구조:\")\n",
    "print(config['download_dir'])\n",
    "print_directory_tree(config['download_dir'])"
   ]
  },
  {
   "cell_type": "markdown",
   "metadata": {},
   "source": [
    "## 추가 참고사항\n",
    "\n",
    "### 데이터 파일 형식\n",
    "- TEMPO 데이터는 주로 **netCDF4 (.nc)** 형식으로 제공됩니다\n",
    "- 파일을 읽으려면 `xarray` 또는 `netCDF4` 라이브러리를 사용하세요\n",
    "\n",
    "### 다음 단계\n",
    "1. **데이터 로드 및 전처리**: `xarray.open_dataset()` 사용\n",
    "2. **시각화**: matplotlib, cartopy 등으로 지도 위에 표시\n",
    "3. **머신러닝 모델**: 시계열 데이터로 변환 후 학습\n",
    "\n",
    "### 유용한 링크\n",
    "- TEMPO 공식 문서: https://tempo.si.edu/\n",
    "- earthaccess 문서: https://earthaccess.readthedocs.io/\n",
    "- NASA Earthdata: https://www.earthdata.nasa.gov/"
   ]
  }
 ],
 "metadata": {
  "kernelspec": {
   "display_name": ".venv",
   "language": "python",
   "name": "python3"
  },
  "language_info": {
   "codemirror_mode": {
    "name": "ipython",
    "version": 3
   },
   "file_extension": ".py",
   "mimetype": "text/x-python",
   "name": "python",
   "nbconvert_exporter": "python",
   "pygments_lexer": "ipython3",
   "version": "3.10.17"
  }
 },
 "nbformat": 4,
 "nbformat_minor": 4
}
